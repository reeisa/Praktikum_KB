{
 "cells": [
  {
   "cell_type": "markdown",
   "metadata": {},
   "source": [
    "## POSTTEST 6 - DEEP NEURAL NETWORK"
   ]
  },
  {
   "cell_type": "code",
   "execution_count": 256,
   "metadata": {},
   "outputs": [],
   "source": [
    "import pandas as pd"
   ]
  },
  {
   "cell_type": "code",
   "execution_count": 257,
   "metadata": {},
   "outputs": [
    {
     "data": {
      "text/html": [
       "<div>\n",
       "<style scoped>\n",
       "    .dataframe tbody tr th:only-of-type {\n",
       "        vertical-align: middle;\n",
       "    }\n",
       "\n",
       "    .dataframe tbody tr th {\n",
       "        vertical-align: top;\n",
       "    }\n",
       "\n",
       "    .dataframe thead th {\n",
       "        text-align: right;\n",
       "    }\n",
       "</style>\n",
       "<table border=\"1\" class=\"dataframe\">\n",
       "  <thead>\n",
       "    <tr style=\"text-align: right;\">\n",
       "      <th></th>\n",
       "      <th>Education</th>\n",
       "      <th>JoiningYear</th>\n",
       "      <th>City</th>\n",
       "      <th>PaymentTier</th>\n",
       "      <th>Age</th>\n",
       "      <th>Gender</th>\n",
       "      <th>EverBenched</th>\n",
       "      <th>ExperienceInCurrentDomain</th>\n",
       "      <th>LeaveOrNot</th>\n",
       "    </tr>\n",
       "  </thead>\n",
       "  <tbody>\n",
       "    <tr>\n",
       "      <th>0</th>\n",
       "      <td>Bachelors</td>\n",
       "      <td>2017</td>\n",
       "      <td>Bangalore</td>\n",
       "      <td>3</td>\n",
       "      <td>34</td>\n",
       "      <td>Male</td>\n",
       "      <td>No</td>\n",
       "      <td>0</td>\n",
       "      <td>0</td>\n",
       "    </tr>\n",
       "    <tr>\n",
       "      <th>1</th>\n",
       "      <td>Bachelors</td>\n",
       "      <td>2013</td>\n",
       "      <td>Pune</td>\n",
       "      <td>1</td>\n",
       "      <td>28</td>\n",
       "      <td>Female</td>\n",
       "      <td>No</td>\n",
       "      <td>3</td>\n",
       "      <td>1</td>\n",
       "    </tr>\n",
       "    <tr>\n",
       "      <th>2</th>\n",
       "      <td>Bachelors</td>\n",
       "      <td>2014</td>\n",
       "      <td>New Delhi</td>\n",
       "      <td>3</td>\n",
       "      <td>38</td>\n",
       "      <td>Female</td>\n",
       "      <td>No</td>\n",
       "      <td>2</td>\n",
       "      <td>0</td>\n",
       "    </tr>\n",
       "    <tr>\n",
       "      <th>3</th>\n",
       "      <td>Masters</td>\n",
       "      <td>2016</td>\n",
       "      <td>Bangalore</td>\n",
       "      <td>3</td>\n",
       "      <td>27</td>\n",
       "      <td>Male</td>\n",
       "      <td>No</td>\n",
       "      <td>5</td>\n",
       "      <td>1</td>\n",
       "    </tr>\n",
       "    <tr>\n",
       "      <th>4</th>\n",
       "      <td>Masters</td>\n",
       "      <td>2017</td>\n",
       "      <td>Pune</td>\n",
       "      <td>3</td>\n",
       "      <td>24</td>\n",
       "      <td>Male</td>\n",
       "      <td>Yes</td>\n",
       "      <td>2</td>\n",
       "      <td>1</td>\n",
       "    </tr>\n",
       "    <tr>\n",
       "      <th>...</th>\n",
       "      <td>...</td>\n",
       "      <td>...</td>\n",
       "      <td>...</td>\n",
       "      <td>...</td>\n",
       "      <td>...</td>\n",
       "      <td>...</td>\n",
       "      <td>...</td>\n",
       "      <td>...</td>\n",
       "      <td>...</td>\n",
       "    </tr>\n",
       "    <tr>\n",
       "      <th>4648</th>\n",
       "      <td>Bachelors</td>\n",
       "      <td>2013</td>\n",
       "      <td>Bangalore</td>\n",
       "      <td>3</td>\n",
       "      <td>26</td>\n",
       "      <td>Female</td>\n",
       "      <td>No</td>\n",
       "      <td>4</td>\n",
       "      <td>0</td>\n",
       "    </tr>\n",
       "    <tr>\n",
       "      <th>4649</th>\n",
       "      <td>Masters</td>\n",
       "      <td>2013</td>\n",
       "      <td>Pune</td>\n",
       "      <td>2</td>\n",
       "      <td>37</td>\n",
       "      <td>Male</td>\n",
       "      <td>No</td>\n",
       "      <td>2</td>\n",
       "      <td>1</td>\n",
       "    </tr>\n",
       "    <tr>\n",
       "      <th>4650</th>\n",
       "      <td>Masters</td>\n",
       "      <td>2018</td>\n",
       "      <td>New Delhi</td>\n",
       "      <td>3</td>\n",
       "      <td>27</td>\n",
       "      <td>Male</td>\n",
       "      <td>No</td>\n",
       "      <td>5</td>\n",
       "      <td>1</td>\n",
       "    </tr>\n",
       "    <tr>\n",
       "      <th>4651</th>\n",
       "      <td>Bachelors</td>\n",
       "      <td>2012</td>\n",
       "      <td>Bangalore</td>\n",
       "      <td>3</td>\n",
       "      <td>30</td>\n",
       "      <td>Male</td>\n",
       "      <td>Yes</td>\n",
       "      <td>2</td>\n",
       "      <td>0</td>\n",
       "    </tr>\n",
       "    <tr>\n",
       "      <th>4652</th>\n",
       "      <td>Bachelors</td>\n",
       "      <td>2015</td>\n",
       "      <td>Bangalore</td>\n",
       "      <td>3</td>\n",
       "      <td>33</td>\n",
       "      <td>Male</td>\n",
       "      <td>Yes</td>\n",
       "      <td>4</td>\n",
       "      <td>0</td>\n",
       "    </tr>\n",
       "  </tbody>\n",
       "</table>\n",
       "<p>4653 rows × 9 columns</p>\n",
       "</div>"
      ],
      "text/plain": [
       "      Education  JoiningYear       City  PaymentTier  Age  Gender EverBenched  \\\n",
       "0     Bachelors         2017  Bangalore            3   34    Male          No   \n",
       "1     Bachelors         2013       Pune            1   28  Female          No   \n",
       "2     Bachelors         2014  New Delhi            3   38  Female          No   \n",
       "3       Masters         2016  Bangalore            3   27    Male          No   \n",
       "4       Masters         2017       Pune            3   24    Male         Yes   \n",
       "...         ...          ...        ...          ...  ...     ...         ...   \n",
       "4648  Bachelors         2013  Bangalore            3   26  Female          No   \n",
       "4649    Masters         2013       Pune            2   37    Male          No   \n",
       "4650    Masters         2018  New Delhi            3   27    Male          No   \n",
       "4651  Bachelors         2012  Bangalore            3   30    Male         Yes   \n",
       "4652  Bachelors         2015  Bangalore            3   33    Male         Yes   \n",
       "\n",
       "      ExperienceInCurrentDomain  LeaveOrNot  \n",
       "0                             0           0  \n",
       "1                             3           1  \n",
       "2                             2           0  \n",
       "3                             5           1  \n",
       "4                             2           1  \n",
       "...                         ...         ...  \n",
       "4648                          4           0  \n",
       "4649                          2           1  \n",
       "4650                          5           1  \n",
       "4651                          2           0  \n",
       "4652                          4           0  \n",
       "\n",
       "[4653 rows x 9 columns]"
      ]
     },
     "execution_count": 257,
     "metadata": {},
     "output_type": "execute_result"
    }
   ],
   "source": [
    "df = pd.read_csv('Employee.csv')\n",
    "df"
   ]
  },
  {
   "cell_type": "markdown",
   "metadata": {},
   "source": [
    "<i>melihat nilai null. \n",
    "tidak ada nilai null pada dataset ini.</i>"
   ]
  },
  {
   "cell_type": "code",
   "execution_count": 258,
   "metadata": {},
   "outputs": [
    {
     "data": {
      "text/plain": [
       "Education                    0\n",
       "JoiningYear                  0\n",
       "City                         0\n",
       "PaymentTier                  0\n",
       "Age                          0\n",
       "Gender                       0\n",
       "EverBenched                  0\n",
       "ExperienceInCurrentDomain    0\n",
       "LeaveOrNot                   0\n",
       "dtype: int64"
      ]
     },
     "execution_count": 258,
     "metadata": {},
     "output_type": "execute_result"
    }
   ],
   "source": [
    "df.isna().sum()"
   ]
  },
  {
   "cell_type": "markdown",
   "metadata": {},
   "source": [
    "<i>melihat nilai duplikat. karena ada, maka dihapus. </i>"
   ]
  },
  {
   "cell_type": "code",
   "execution_count": 259,
   "metadata": {},
   "outputs": [
    {
     "data": {
      "text/plain": [
       "1889"
      ]
     },
     "execution_count": 259,
     "metadata": {},
     "output_type": "execute_result"
    }
   ],
   "source": [
    "df.duplicated().sum()"
   ]
  },
  {
   "cell_type": "code",
   "execution_count": 260,
   "metadata": {},
   "outputs": [],
   "source": [
    "df.drop_duplicates(inplace=True)"
   ]
  },
  {
   "cell_type": "code",
   "execution_count": 261,
   "metadata": {},
   "outputs": [
    {
     "name": "stdout",
     "output_type": "stream",
     "text": [
      "<class 'pandas.core.frame.DataFrame'>\n",
      "Int64Index: 2764 entries, 0 to 4651\n",
      "Data columns (total 9 columns):\n",
      " #   Column                     Non-Null Count  Dtype \n",
      "---  ------                     --------------  ----- \n",
      " 0   Education                  2764 non-null   object\n",
      " 1   JoiningYear                2764 non-null   int64 \n",
      " 2   City                       2764 non-null   object\n",
      " 3   PaymentTier                2764 non-null   int64 \n",
      " 4   Age                        2764 non-null   int64 \n",
      " 5   Gender                     2764 non-null   object\n",
      " 6   EverBenched                2764 non-null   object\n",
      " 7   ExperienceInCurrentDomain  2764 non-null   int64 \n",
      " 8   LeaveOrNot                 2764 non-null   int64 \n",
      "dtypes: int64(5), object(4)\n",
      "memory usage: 215.9+ KB\n"
     ]
    }
   ],
   "source": [
    "df.info()"
   ]
  },
  {
   "cell_type": "markdown",
   "metadata": {},
   "source": [
    "<i>mengubah kolom bertipe object menggunakan label encoder</i>"
   ]
  },
  {
   "cell_type": "code",
   "execution_count": 262,
   "metadata": {},
   "outputs": [],
   "source": [
    "from sklearn.preprocessing import LabelEncoder\n",
    "encoder = LabelEncoder()\n",
    "columns = [\"Education\",\"City\",\"Gender\",\"EverBenched\"]\n",
    "for cols in columns:\n",
    "    df[cols] = encoder.fit_transform(df[cols])"
   ]
  },
  {
   "cell_type": "markdown",
   "metadata": {},
   "source": [
    "<i>split dataset</i>"
   ]
  },
  {
   "cell_type": "code",
   "execution_count": 263,
   "metadata": {},
   "outputs": [],
   "source": [
    "x = df.drop(\"LeaveOrNot\", axis=1) # fitur\n",
    "y = df[\"LeaveOrNot\"] # target"
   ]
  },
  {
   "cell_type": "code",
   "execution_count": 264,
   "metadata": {},
   "outputs": [],
   "source": [
    "from sklearn.model_selection import train_test_split\n",
    "x_train, x_test, y_train, y_test = train_test_split(x, y, test_size=0.3)"
   ]
  },
  {
   "cell_type": "code",
   "execution_count": 265,
   "metadata": {},
   "outputs": [],
   "source": [
    "from sklearn.preprocessing import StandardScaler\n",
    "scaler = StandardScaler()\n",
    "x_train = scaler.fit_transform(x_train)\n",
    "x_test = scaler.transform(x_test)"
   ]
  },
  {
   "cell_type": "markdown",
   "metadata": {},
   "source": [
    "<i>membangun model sequential\n",
    "1. input memiliki 8 fitur sehingga 'input_dim=8'\n",
    "2. output menggunakan 'activation=sigmoid' karena klasifikasi biner dengan output antara 0 dan 1</i>"
   ]
  },
  {
   "cell_type": "code",
   "execution_count": 266,
   "metadata": {},
   "outputs": [],
   "source": [
    "from keras import Sequential\n",
    "from keras.layers import Dense"
   ]
  },
  {
   "cell_type": "code",
   "execution_count": 267,
   "metadata": {},
   "outputs": [],
   "source": [
    "model = Sequential()\n",
    "\n",
    "# input layer\n",
    "model.add(Dense(128, activation='relu', input_dim=8))\n",
    "\n",
    "# hidden layer\n",
    "model.add(Dense(64, activation='relu'))\n",
    "model.add(Dense(32, activation='relu'))\n",
    "\n",
    "# output layer\n",
    "model.add(Dense(1, activation='sigmoid'))"
   ]
  },
  {
   "cell_type": "markdown",
   "metadata": {},
   "source": [
    "<i>fungsi callback : menghentikan training model saat mencapai akurasi tinggi. </i>"
   ]
  },
  {
   "cell_type": "code",
   "execution_count": 268,
   "metadata": {},
   "outputs": [],
   "source": [
    "from keras.callbacks import EarlyStopping\n",
    "monitor_callback = EarlyStopping(monitor='val_accuracy', patience=10)"
   ]
  },
  {
   "cell_type": "markdown",
   "metadata": {},
   "source": [
    "<i>compile model</i>"
   ]
  },
  {
   "cell_type": "code",
   "execution_count": 269,
   "metadata": {},
   "outputs": [],
   "source": [
    "from keras.optimizers import Adam\n",
    "from keras.losses import binary_crossentropy"
   ]
  },
  {
   "cell_type": "code",
   "execution_count": 270,
   "metadata": {},
   "outputs": [],
   "source": [
    "model.compile(optimizer='Adam', loss='binary_crossentropy', metrics=['accuracy']) \n"
   ]
  },
  {
   "cell_type": "markdown",
   "metadata": {},
   "source": [
    "<i>training model</i>"
   ]
  },
  {
   "cell_type": "code",
   "execution_count": 271,
   "metadata": {},
   "outputs": [
    {
     "name": "stdout",
     "output_type": "stream",
     "text": [
      "Epoch 1/100\n"
     ]
    },
    {
     "name": "stdout",
     "output_type": "stream",
     "text": [
      "61/61 [==============================] - 2s 7ms/step - loss: 0.6305 - accuracy: 0.6546 - val_loss: 0.5969 - val_accuracy: 0.7012\n",
      "Epoch 2/100\n",
      "61/61 [==============================] - 0s 4ms/step - loss: 0.5674 - accuracy: 0.7187 - val_loss: 0.5506 - val_accuracy: 0.7313\n",
      "Epoch 3/100\n",
      "61/61 [==============================] - 0s 4ms/step - loss: 0.5270 - accuracy: 0.7342 - val_loss: 0.5296 - val_accuracy: 0.7458\n",
      "Epoch 4/100\n",
      "61/61 [==============================] - 0s 4ms/step - loss: 0.4947 - accuracy: 0.7673 - val_loss: 0.5140 - val_accuracy: 0.7699\n",
      "Epoch 5/100\n",
      "61/61 [==============================] - 0s 4ms/step - loss: 0.4844 - accuracy: 0.7792 - val_loss: 0.5041 - val_accuracy: 0.7711\n",
      "Epoch 6/100\n",
      "61/61 [==============================] - 0s 4ms/step - loss: 0.4663 - accuracy: 0.7875 - val_loss: 0.4918 - val_accuracy: 0.7783\n",
      "Epoch 7/100\n",
      "61/61 [==============================] - 0s 4ms/step - loss: 0.4538 - accuracy: 0.8025 - val_loss: 0.4843 - val_accuracy: 0.7759\n",
      "Epoch 8/100\n",
      "61/61 [==============================] - 0s 4ms/step - loss: 0.4431 - accuracy: 0.8014 - val_loss: 0.4863 - val_accuracy: 0.7699\n",
      "Epoch 9/100\n",
      "61/61 [==============================] - 0s 4ms/step - loss: 0.4322 - accuracy: 0.7978 - val_loss: 0.4846 - val_accuracy: 0.7867\n",
      "Epoch 10/100\n",
      "61/61 [==============================] - 0s 4ms/step - loss: 0.4218 - accuracy: 0.8066 - val_loss: 0.4740 - val_accuracy: 0.7819\n",
      "Epoch 11/100\n",
      "61/61 [==============================] - 0s 4ms/step - loss: 0.4174 - accuracy: 0.8128 - val_loss: 0.4691 - val_accuracy: 0.7843\n",
      "Epoch 12/100\n",
      "61/61 [==============================] - 0s 4ms/step - loss: 0.4109 - accuracy: 0.8133 - val_loss: 0.4698 - val_accuracy: 0.7976\n",
      "Epoch 13/100\n",
      "61/61 [==============================] - 0s 4ms/step - loss: 0.4043 - accuracy: 0.8123 - val_loss: 0.4708 - val_accuracy: 0.7916\n",
      "Epoch 14/100\n",
      "61/61 [==============================] - 0s 4ms/step - loss: 0.3942 - accuracy: 0.8149 - val_loss: 0.4786 - val_accuracy: 0.7904\n",
      "Epoch 15/100\n",
      "61/61 [==============================] - 0s 4ms/step - loss: 0.3944 - accuracy: 0.8144 - val_loss: 0.4737 - val_accuracy: 0.7843\n",
      "Epoch 16/100\n",
      "61/61 [==============================] - 0s 4ms/step - loss: 0.3887 - accuracy: 0.8237 - val_loss: 0.4783 - val_accuracy: 0.7843\n",
      "Epoch 17/100\n",
      "61/61 [==============================] - 0s 4ms/step - loss: 0.3879 - accuracy: 0.8185 - val_loss: 0.4794 - val_accuracy: 0.7759\n",
      "Epoch 18/100\n",
      "61/61 [==============================] - 0s 4ms/step - loss: 0.3784 - accuracy: 0.8237 - val_loss: 0.4735 - val_accuracy: 0.7771\n",
      "Epoch 19/100\n",
      "61/61 [==============================] - 0s 4ms/step - loss: 0.3815 - accuracy: 0.8268 - val_loss: 0.4674 - val_accuracy: 0.7988\n",
      "Epoch 20/100\n",
      "61/61 [==============================] - 0s 4ms/step - loss: 0.3746 - accuracy: 0.8185 - val_loss: 0.4887 - val_accuracy: 0.7867\n",
      "Epoch 21/100\n",
      "61/61 [==============================] - 0s 4ms/step - loss: 0.3752 - accuracy: 0.8221 - val_loss: 0.4745 - val_accuracy: 0.7916\n",
      "Epoch 22/100\n",
      "61/61 [==============================] - 0s 4ms/step - loss: 0.3668 - accuracy: 0.8273 - val_loss: 0.4677 - val_accuracy: 0.7892\n",
      "Epoch 23/100\n",
      "61/61 [==============================] - 0s 4ms/step - loss: 0.3594 - accuracy: 0.8345 - val_loss: 0.4757 - val_accuracy: 0.7952\n",
      "Epoch 24/100\n",
      "61/61 [==============================] - 0s 4ms/step - loss: 0.3624 - accuracy: 0.8289 - val_loss: 0.5002 - val_accuracy: 0.7711\n",
      "Epoch 25/100\n",
      "61/61 [==============================] - 0s 4ms/step - loss: 0.3564 - accuracy: 0.8345 - val_loss: 0.5010 - val_accuracy: 0.7711\n",
      "Epoch 26/100\n",
      "61/61 [==============================] - 0s 4ms/step - loss: 0.3595 - accuracy: 0.8304 - val_loss: 0.4889 - val_accuracy: 0.7892\n",
      "Epoch 27/100\n",
      "61/61 [==============================] - 0s 4ms/step - loss: 0.3537 - accuracy: 0.8335 - val_loss: 0.4969 - val_accuracy: 0.7855\n",
      "Epoch 28/100\n",
      "61/61 [==============================] - 0s 4ms/step - loss: 0.3492 - accuracy: 0.8351 - val_loss: 0.4840 - val_accuracy: 0.7928\n",
      "Epoch 29/100\n",
      "61/61 [==============================] - 0s 4ms/step - loss: 0.3454 - accuracy: 0.8407 - val_loss: 0.5056 - val_accuracy: 0.7831\n"
     ]
    }
   ],
   "source": [
    "fit = model.fit(x = x_train, y = y_train,\n",
    "          validation_data=(x_test,y_test),\n",
    "          epochs=100, verbose=1,\n",
    "          callbacks=[monitor_callback])"
   ]
  },
  {
   "cell_type": "markdown",
   "metadata": {},
   "source": [
    "<i>evaluasi model\n",
    "1. loss artinya rata-rata kesalahan prediksi model sekitar 0.5056\n",
    "2. accuracy artinya model berhasil mengklasifikasikan sekitar 0.7831 akurasi data dengan benar</i>"
   ]
  },
  {
   "cell_type": "code",
   "execution_count": 272,
   "metadata": {},
   "outputs": [
    {
     "name": "stdout",
     "output_type": "stream",
     "text": [
      " 1/26 [>.............................] - ETA: 0s - loss: 0.3606 - accuracy: 0.8125"
     ]
    },
    {
     "name": "stdout",
     "output_type": "stream",
     "text": [
      "26/26 [==============================] - 0s 2ms/step - loss: 0.5056 - accuracy: 0.7831\n",
      "Loss : 0.5056381225585938\n",
      "Accuracy : 0.7831325531005859\n"
     ]
    }
   ],
   "source": [
    "loss, accuracy = model.evaluate(x_test, y_test)\n",
    "print(f\"Loss : {loss}\")\n",
    "print(f\"Accuracy : {accuracy}\")"
   ]
  },
  {
   "cell_type": "markdown",
   "metadata": {},
   "source": [
    "<i>grafik pergerakan metrik accuracy dan loss terhadap epoch pada training dan validation</i>"
   ]
  },
  {
   "cell_type": "code",
   "execution_count": 273,
   "metadata": {},
   "outputs": [
    {
     "data": {
      "image/png": "[encoded data removed]",
      "text/plain": [
       "<Figure size 1200x400 with 2 Axes>"
      ]
     },
     "metadata": {},
     "output_type": "display_data"
    }
   ],
   "source": [
    "import matplotlib.pyplot as plt\n",
    "\n",
    "plt.figure(figsize=(12, 4))\n",
    "plt.subplot(1, 2, 1)\n",
    "plt.plot(fit.history['accuracy'], label='train')\n",
    "plt.plot(fit.history['val_accuracy'], label='val')\n",
    "plt.title('model accuracy')\n",
    "plt.xlabel('epoch')\n",
    "plt.ylabel('accuracy')\n",
    "plt.legend()\n",
    "\n",
    "plt.subplot(1, 2, 2)\n",
    "plt.plot(fit.history['loss'], label='train')\n",
    "plt.plot(fit.history['val_loss'], label='val')\n",
    "plt.title('model loss')\n",
    "plt.xlabel('epoch')\n",
    "plt.ylabel('loss')\n",
    "plt.legend()\n",
    "\n",
    "plt.tight_layout()\n",
    "plt.show()"
   ]
  }
 ],
 "metadata": {
  "kernelspec": {
   "display_name": "Python 3",
   "language": "python",
   "name": "python3"
  },
  "language_info": {
   "codemirror_mode": {
    "name": "ipython",
    "version": 3
   },
   "file_extension": ".py",
   "mimetype": "text/x-python",
   "name": "python",
   "nbconvert_exporter": "python",
   "pygments_lexer": "ipython3",
   "version": "3.10.7"
  }
 },
 "nbformat": 4,
 "nbformat_minor": 2
}
