{
 "cells": [
  {
   "cell_type": "code",
   "execution_count": 1,
   "metadata": {},
   "outputs": [],
   "source": [
    "import pandas as pd\n",
    "import numpy as np"
   ]
  },
  {
   "cell_type": "code",
   "execution_count": 2,
   "metadata": {},
   "outputs": [
    {
     "data": {
      "text/html": [
       "<div>\n",
       "<style scoped>\n",
       "    .dataframe tbody tr th:only-of-type {\n",
       "        vertical-align: middle;\n",
       "    }\n",
       "\n",
       "    .dataframe tbody tr th {\n",
       "        vertical-align: top;\n",
       "    }\n",
       "\n",
       "    .dataframe thead th {\n",
       "        text-align: right;\n",
       "    }\n",
       "</style>\n",
       "<table border=\"1\" class=\"dataframe\">\n",
       "  <thead>\n",
       "    <tr style=\"text-align: right;\">\n",
       "      <th></th>\n",
       "      <th>Education</th>\n",
       "      <th>JoiningYear</th>\n",
       "      <th>City</th>\n",
       "      <th>PaymentTier</th>\n",
       "      <th>Age</th>\n",
       "      <th>Gender</th>\n",
       "      <th>EverBenched</th>\n",
       "      <th>ExperienceInCurrentDomain</th>\n",
       "      <th>LeaveOrNot</th>\n",
       "    </tr>\n",
       "  </thead>\n",
       "  <tbody>\n",
       "    <tr>\n",
       "      <th>0</th>\n",
       "      <td>Bachelors</td>\n",
       "      <td>2017</td>\n",
       "      <td>Bangalore</td>\n",
       "      <td>3</td>\n",
       "      <td>34</td>\n",
       "      <td>Male</td>\n",
       "      <td>No</td>\n",
       "      <td>0</td>\n",
       "      <td>0</td>\n",
       "    </tr>\n",
       "    <tr>\n",
       "      <th>1</th>\n",
       "      <td>Bachelors</td>\n",
       "      <td>2013</td>\n",
       "      <td>Pune</td>\n",
       "      <td>1</td>\n",
       "      <td>28</td>\n",
       "      <td>Female</td>\n",
       "      <td>No</td>\n",
       "      <td>3</td>\n",
       "      <td>1</td>\n",
       "    </tr>\n",
       "    <tr>\n",
       "      <th>2</th>\n",
       "      <td>Bachelors</td>\n",
       "      <td>2014</td>\n",
       "      <td>New Delhi</td>\n",
       "      <td>3</td>\n",
       "      <td>38</td>\n",
       "      <td>Female</td>\n",
       "      <td>No</td>\n",
       "      <td>2</td>\n",
       "      <td>0</td>\n",
       "    </tr>\n",
       "    <tr>\n",
       "      <th>3</th>\n",
       "      <td>Masters</td>\n",
       "      <td>2016</td>\n",
       "      <td>Bangalore</td>\n",
       "      <td>3</td>\n",
       "      <td>27</td>\n",
       "      <td>Male</td>\n",
       "      <td>No</td>\n",
       "      <td>5</td>\n",
       "      <td>1</td>\n",
       "    </tr>\n",
       "    <tr>\n",
       "      <th>4</th>\n",
       "      <td>Masters</td>\n",
       "      <td>2017</td>\n",
       "      <td>Pune</td>\n",
       "      <td>3</td>\n",
       "      <td>24</td>\n",
       "      <td>Male</td>\n",
       "      <td>Yes</td>\n",
       "      <td>2</td>\n",
       "      <td>1</td>\n",
       "    </tr>\n",
       "  </tbody>\n",
       "</table>\n",
       "</div>"
      ],
      "text/plain": [
       "   Education  JoiningYear       City  PaymentTier  Age  Gender EverBenched  \\\n",
       "0  Bachelors         2017  Bangalore            3   34    Male          No   \n",
       "1  Bachelors         2013       Pune            1   28  Female          No   \n",
       "2  Bachelors         2014  New Delhi            3   38  Female          No   \n",
       "3    Masters         2016  Bangalore            3   27    Male          No   \n",
       "4    Masters         2017       Pune            3   24    Male         Yes   \n",
       "\n",
       "   ExperienceInCurrentDomain  LeaveOrNot  \n",
       "0                          0           0  \n",
       "1                          3           1  \n",
       "2                          2           0  \n",
       "3                          5           1  \n",
       "4                          2           1  "
      ]
     },
     "execution_count": 2,
     "metadata": {},
     "output_type": "execute_result"
    }
   ],
   "source": [
    "df = pd.read_csv('Employee.csv')\n",
    "df.head()"
   ]
  },
  {
   "cell_type": "markdown",
   "metadata": {},
   "source": [
    "### DATA SPLIT\n",
    "### import kelas fungsi train_test_split dari sklearn.model_selection\n",
    "### attribute LeaveOrNot adalah target/label yang akan diprediksi oleh model\n",
    "### variabel x : semua kolom dari data kecuali attribute LeaveOrNot (menggunakan drop untuk menghapus kolom tertentu)\n",
    "### variabel y : berisi attribute LeaveOrNot dari data\n",
    "### x_train dan y_train : berisi 70% data dari x dan y untuk training set\n",
    "### x_test dan y_test : berisi 30% data dari x dan y untuk testing set\n",
    "### test_size=0.3 : jumlah data yang akan jadi testing set yaitu 0.3 atau 30%"
   ]
  },
  {
   "cell_type": "code",
   "execution_count": 3,
   "metadata": {},
   "outputs": [
    {
     "name": "stdout",
     "output_type": "stream",
     "text": [
      "Dimensi x_train :  (3257, 8)\n",
      "Dimensi x_test :  (1396, 8)\n",
      "Dimensi y_train :  (3257,)\n",
      "Dimensi y_test :  (1396,)\n"
     ]
    }
   ],
   "source": [
    "from sklearn.model_selection import train_test_split\n",
    "x = df.drop(columns='LeaveOrNot')\n",
    "y = df[\"LeaveOrNot\"]\n",
    "x_train, x_test, y_train, y_test = train_test_split(x,y,test_size=0.3)\n",
    "print(\"Dimensi x_train : \", x_train.shape)\n",
    "print(\"Dimensi x_test : \", x_test.shape)\n",
    "print(\"Dimensi y_train : \", y_train.shape)\n",
    "print(\"Dimensi y_test : \", y_test.shape)"
   ]
  },
  {
   "cell_type": "markdown",
   "metadata": {},
   "source": [
    "### DATA TRANSFORMATION (NORMALISASI - MINMAXSCALER)\n",
    "### import kelas MinMaxScaler dari sklearn.preprocessing\n",
    "### membuat salinan dataframe df dan menetapkannya ke variabel df2\n",
    "### memanggil kelas MinMaxScaler menggunakan variabel mm\n",
    "### mengganti kolom age dan joiningyear pada df2 dengan nilai yang sudah dinormalisasi menggunakan mm.fit_transform\n",
    "### tabel hasil normalisasi menunjukkan nilai data berubah menjadi antara 0 dan 1 sehingga data mudah dianalisis\n",
    "### nilai max = 1 dan nilai min = 0, maka nilai data sudah dinormalisasi"
   ]
  },
  {
   "cell_type": "code",
   "execution_count": 4,
   "metadata": {},
   "outputs": [
    {
     "name": "stdout",
     "output_type": "stream",
     "text": [
      "nilai data sebelum scaling : \n",
      "      Age\n",
      "0      34\n",
      "1      28\n",
      "2      38\n",
      "3      27\n",
      "4      24\n",
      "...   ...\n",
      "4648   26\n",
      "4649   37\n",
      "4650   27\n",
      "4651   30\n",
      "4652   33\n",
      "\n",
      "[4653 rows x 1 columns]\n",
      "nilai data setelah scaling : \n",
      "           Age\n",
      "0     0.631579\n",
      "1     0.315789\n",
      "2     0.842105\n",
      "3     0.263158\n",
      "4     0.105263\n",
      "...        ...\n",
      "4648  0.210526\n",
      "4649  0.789474\n",
      "4650  0.263158\n",
      "4651  0.421053\n",
      "4652  0.578947\n",
      "\n",
      "[4653 rows x 1 columns]\n",
      "nilai max :  1.0 nilai min :  0.0\n"
     ]
    }
   ],
   "source": [
    "from sklearn.preprocessing import MinMaxScaler\n",
    "df2 = df.copy()\n",
    "mm = MinMaxScaler()\n",
    "df2[['Age']] = mm.fit_transform(df2[['Age']])\n",
    "print(\"nilai data sebelum scaling : \")\n",
    "print(df[['Age']])\n",
    "print(\"nilai data setelah scaling : \")\n",
    "print(df2[['Age']])\n",
    "print(\"nilai max : \", df2['Age'].max(), \"nilai min : \", df2['Age'].min())"
   ]
  },
  {
   "cell_type": "markdown",
   "metadata": {},
   "source": [
    "### DATA TRANSFORMATION (STANDARISASI)\n",
    "### import kelas StandardScaler dari modul sklearn.preprocessing\n",
    "### membuat salinan dataframe df dan menetapkannya ke variabel df3\n",
    "### memanggil kelas StandardScaler menggunakan variabel ss\n",
    "### mengganti kolom age, joiningyear, paymenttier, dan experienceincurrentdomain pada df3 dengan nilai-nilai yang sudah distandarisasi menggunakan ss.fit_transform\n",
    "### tabel hasil standarisasi menunjukkan nilai data memiliki mean mendekati 0 dan standar deviasi mendekati 1, sehingga data memiliki skala yang sama"
   ]
  },
  {
   "cell_type": "code",
   "execution_count": 5,
   "metadata": {},
   "outputs": [
    {
     "name": "stdout",
     "output_type": "stream",
     "text": [
      "nilai data sebelum scaling : \n",
      "      Age  JoiningYear  PaymentTier  ExperienceInCurrentDomain\n",
      "0      34         2017            3                          0\n",
      "1      28         2013            1                          3\n",
      "2      38         2014            3                          2\n",
      "3      27         2016            3                          5\n",
      "4      24         2017            3                          2\n",
      "...   ...          ...          ...                        ...\n",
      "4648   26         2013            3                          4\n",
      "4649   37         2013            2                          2\n",
      "4650   27         2018            3                          5\n",
      "4651   30         2012            3                          2\n",
      "4652   33         2015            3                          4\n",
      "\n",
      "[4653 rows x 4 columns]\n",
      "nilai data setelah scaling : \n",
      "           Age  JoiningYear  PaymentTier  ExperienceInCurrentDomain\n",
      "0     0.954645     1.039638     0.537503                  -1.864901\n",
      "1    -0.288732    -1.107233    -3.025177                   0.060554\n",
      "2     1.783563    -0.570515     0.537503                  -0.581264\n",
      "3    -0.495961     0.502921     0.537503                   1.344191\n",
      "4    -1.117650     1.039638     0.537503                  -0.581264\n",
      "...        ...          ...          ...                        ...\n",
      "4648 -0.703191    -1.107233     0.537503                   0.702373\n",
      "4649  1.576334    -1.107233    -1.243837                  -0.581264\n",
      "4650 -0.495961     1.576356     0.537503                   1.344191\n",
      "4651  0.125727    -1.643951     0.537503                  -0.581264\n",
      "4652  0.747416    -0.033797     0.537503                   0.702373\n",
      "\n",
      "[4653 rows x 4 columns]\n"
     ]
    }
   ],
   "source": [
    "from sklearn.preprocessing import StandardScaler\n",
    "df3 = df.copy()\n",
    "ss = StandardScaler()\n",
    "df3[['Age','JoiningYear','PaymentTier','ExperienceInCurrentDomain']] = ss.fit_transform(df3[['Age','JoiningYear','PaymentTier','ExperienceInCurrentDomain']])\n",
    "print(\"nilai data sebelum scaling : \")\n",
    "print(df[['Age','JoiningYear','PaymentTier','ExperienceInCurrentDomain']])\n",
    "print(\"nilai data setelah scaling : \")\n",
    "print(df3[['Age','JoiningYear','PaymentTier','ExperienceInCurrentDomain']])"
   ]
  },
  {
   "cell_type": "markdown",
   "metadata": {},
   "source": [
    "### DATA CLEANING (NILAI NULL)\n",
    "### import kelas SimpleImputer dari modul sklearn.impute\n",
    "### karena pada data tidak ada nilai null, makadigunakan fungsi np.nan menggunakan modul numpy dari record sekian hingga sekian\n",
    "### melihat nilai null  menggunakan isna().sum()"
   ]
  },
  {
   "cell_type": "markdown",
   "metadata": {},
   "source": [
    "### memanggil kelas SimpleImputer beserta strategy nya yang berupa 'median', 'mean', dan 'most_frequent' (modus) menggunakan variabel masing-masing yaitu si_med, si_mean, si_mod\n",
    "### nilai null akan diganti menggunakan fungsi fit_transform pada attribute yang ingin diubah\n",
    "### kemudian cek lagi nilai null setelah menggunakan Simple Imputer yaitu 0"
   ]
  },
  {
   "cell_type": "code",
   "execution_count": 6,
   "metadata": {},
   "outputs": [
    {
     "name": "stdout",
     "output_type": "stream",
     "text": [
      "Jumlah nilai null : Education                      0\n",
      "JoiningYear                    0\n",
      "City                          91\n",
      "PaymentTier                   11\n",
      "Age                          201\n",
      "Gender                         0\n",
      "EverBenched                    0\n",
      "ExperienceInCurrentDomain      0\n",
      "LeaveOrNot                     0\n",
      "dtype: int64\n"
     ]
    }
   ],
   "source": [
    "from sklearn.impute import SimpleImputer\n",
    "df2.loc[10:20, ['PaymentTier']]= np.nan # bulat\n",
    "df2.loc[100:300, ['Age']] = np.nan # desimal\n",
    "df2.loc[90:180, ['City']]= np.nan # tulisan\n",
    "print(\"Jumlah nilai null :\", df2.isna().sum())"
   ]
  },
  {
   "cell_type": "code",
   "execution_count": 7,
   "metadata": {},
   "outputs": [
    {
     "name": "stdout",
     "output_type": "stream",
     "text": [
      "Jumlah nilai null setelah menggunakan Simple Imputer : Education                    0\n",
      "JoiningYear                  0\n",
      "City                         0\n",
      "PaymentTier                  0\n",
      "Age                          0\n",
      "Gender                       0\n",
      "EverBenched                  0\n",
      "ExperienceInCurrentDomain    0\n",
      "LeaveOrNot                   0\n",
      "dtype: int64\n"
     ]
    }
   ],
   "source": [
    "si_med = SimpleImputer(strategy='median')\n",
    "si_mean = SimpleImputer(strategy='mean')\n",
    "si_mod = SimpleImputer(strategy='most_frequent')\n",
    "df2['PaymentTier'] = si_med.fit_transform(df2[['PaymentTier']])\n",
    "df2['Age'] = si_mean.fit_transform(df2[['Age']])\n",
    "df2['City'] = si_mod.fit_transform(df2[['City']])\n",
    "print(\"Jumlah nilai null setelah menggunakan Simple Imputer :\", df2.isna().sum())"
   ]
  },
  {
   "cell_type": "markdown",
   "metadata": {},
   "source": [
    "### DATA CLEANING (NILAI DUPLIKAT)\n",
    "### df.duplicated().sum digunakan untuk melihat jumlah nilai duplikat pada data\n",
    "### df.drop_duplicates(inplace=True) digunakan untuk menghapus nilai duplikat pada data\n",
    "### nilai duplikat data yang awalnya berjumlah 1889 menjadi 0"
   ]
  },
  {
   "cell_type": "code",
   "execution_count": 8,
   "metadata": {},
   "outputs": [
    {
     "name": "stdout",
     "output_type": "stream",
     "text": [
      "Nilai duplikat :  1889\n",
      "Nilai duplikat sekarang :  0\n"
     ]
    }
   ],
   "source": [
    "print(\"Nilai duplikat : \", df.duplicated().sum())\n",
    "df.drop_duplicates(inplace=True)\n",
    "print(\"Nilai duplikat sekarang : \", df.duplicated().sum())"
   ]
  },
  {
   "cell_type": "markdown",
   "metadata": {},
   "source": [
    "### GANTI TIPE DATA PADA ATRIBUT ANGKA\n",
    "### menggunakan astype untuk mengganti tipe data kolom ExperienceInCurrentDomain dari int menjadi float\n",
    "### menggunakan info() untuk melihat tipe data masing2 attribute"
   ]
  },
  {
   "cell_type": "code",
   "execution_count": 9,
   "metadata": {},
   "outputs": [
    {
     "name": "stdout",
     "output_type": "stream",
     "text": [
      "<class 'pandas.core.frame.DataFrame'>\n",
      "Int64Index: 2764 entries, 0 to 4651\n",
      "Data columns (total 9 columns):\n",
      " #   Column                     Non-Null Count  Dtype  \n",
      "---  ------                     --------------  -----  \n",
      " 0   Education                  2764 non-null   object \n",
      " 1   JoiningYear                2764 non-null   int64  \n",
      " 2   City                       2764 non-null   object \n",
      " 3   PaymentTier                2764 non-null   int64  \n",
      " 4   Age                        2764 non-null   int64  \n",
      " 5   Gender                     2764 non-null   object \n",
      " 6   EverBenched                2764 non-null   object \n",
      " 7   ExperienceInCurrentDomain  2764 non-null   float64\n",
      " 8   LeaveOrNot                 2764 non-null   int64  \n",
      "dtypes: float64(1), int64(4), object(4)\n",
      "memory usage: 215.9+ KB\n"
     ]
    }
   ],
   "source": [
    "df['ExperienceInCurrentDomain']=df['ExperienceInCurrentDomain'].astype(float)\n",
    "df.info()"
   ]
  },
  {
   "cell_type": "markdown",
   "metadata": {},
   "source": [
    "### ONE HOT ENCODING\n",
    "### import kelas OneHotEncoder dari sklearn.preprocessing\n",
    "### memanggil kelas OneHotEncoder dengan sparse=False menggunakan variabel ohe\n",
    "### mengubah attribute gender dari object menjadi numeric dengan membuat kolom baru menggunakan fungsi ohe.fit_transform\n",
    "### jika record memiliki gender male/female maka nilainya 1, jika tidak ada maka nilainya 0"
   ]
  },
  {
   "cell_type": "code",
   "execution_count": 10,
   "metadata": {},
   "outputs": [
    {
     "name": "stderr",
     "output_type": "stream",
     "text": [
      "c:\\Users\\ASUS\\AppData\\Local\\Programs\\Python\\Python310\\lib\\site-packages\\sklearn\\preprocessing\\_encoders.py:975: FutureWarning: `sparse` was renamed to `sparse_output` in version 1.2 and will be removed in 1.4. `sparse_output` is ignored unless you leave `sparse` to its default value.\n",
      "  warnings.warn(\n"
     ]
    },
    {
     "data": {
      "text/html": [
       "<div>\n",
       "<style scoped>\n",
       "    .dataframe tbody tr th:only-of-type {\n",
       "        vertical-align: middle;\n",
       "    }\n",
       "\n",
       "    .dataframe tbody tr th {\n",
       "        vertical-align: top;\n",
       "    }\n",
       "\n",
       "    .dataframe thead th {\n",
       "        text-align: right;\n",
       "    }\n",
       "</style>\n",
       "<table border=\"1\" class=\"dataframe\">\n",
       "  <thead>\n",
       "    <tr style=\"text-align: right;\">\n",
       "      <th></th>\n",
       "      <th>female</th>\n",
       "      <th>male</th>\n",
       "    </tr>\n",
       "  </thead>\n",
       "  <tbody>\n",
       "    <tr>\n",
       "      <th>0</th>\n",
       "      <td>0.0</td>\n",
       "      <td>1.0</td>\n",
       "    </tr>\n",
       "    <tr>\n",
       "      <th>1</th>\n",
       "      <td>1.0</td>\n",
       "      <td>0.0</td>\n",
       "    </tr>\n",
       "    <tr>\n",
       "      <th>2</th>\n",
       "      <td>1.0</td>\n",
       "      <td>0.0</td>\n",
       "    </tr>\n",
       "    <tr>\n",
       "      <th>3</th>\n",
       "      <td>0.0</td>\n",
       "      <td>1.0</td>\n",
       "    </tr>\n",
       "    <tr>\n",
       "      <th>4</th>\n",
       "      <td>0.0</td>\n",
       "      <td>1.0</td>\n",
       "    </tr>\n",
       "    <tr>\n",
       "      <th>...</th>\n",
       "      <td>...</td>\n",
       "      <td>...</td>\n",
       "    </tr>\n",
       "    <tr>\n",
       "      <th>2759</th>\n",
       "      <td>1.0</td>\n",
       "      <td>0.0</td>\n",
       "    </tr>\n",
       "    <tr>\n",
       "      <th>2760</th>\n",
       "      <td>0.0</td>\n",
       "      <td>1.0</td>\n",
       "    </tr>\n",
       "    <tr>\n",
       "      <th>2761</th>\n",
       "      <td>0.0</td>\n",
       "      <td>1.0</td>\n",
       "    </tr>\n",
       "    <tr>\n",
       "      <th>2762</th>\n",
       "      <td>0.0</td>\n",
       "      <td>1.0</td>\n",
       "    </tr>\n",
       "    <tr>\n",
       "      <th>2763</th>\n",
       "      <td>0.0</td>\n",
       "      <td>1.0</td>\n",
       "    </tr>\n",
       "  </tbody>\n",
       "</table>\n",
       "<p>2764 rows × 2 columns</p>\n",
       "</div>"
      ],
      "text/plain": [
       "      female  male\n",
       "0        0.0   1.0\n",
       "1        1.0   0.0\n",
       "2        1.0   0.0\n",
       "3        0.0   1.0\n",
       "4        0.0   1.0\n",
       "...      ...   ...\n",
       "2759     1.0   0.0\n",
       "2760     0.0   1.0\n",
       "2761     0.0   1.0\n",
       "2762     0.0   1.0\n",
       "2763     0.0   1.0\n",
       "\n",
       "[2764 rows x 2 columns]"
      ]
     },
     "execution_count": 10,
     "metadata": {},
     "output_type": "execute_result"
    }
   ],
   "source": [
    "from sklearn.preprocessing import OneHotEncoder\n",
    "ohe = OneHotEncoder(sparse=False)\n",
    "gender = ohe.fit_transform(df[['Gender']])\n",
    "gender = pd.DataFrame(gender, columns=['female', 'male'])\n",
    "gender"
   ]
  }
 ],
 "metadata": {
  "kernelspec": {
   "display_name": "Python 3",
   "language": "python",
   "name": "python3"
  },
  "language_info": {
   "codemirror_mode": {
    "name": "ipython",
    "version": 3
   },
   "file_extension": ".py",
   "mimetype": "text/x-python",
   "name": "python",
   "nbconvert_exporter": "python",
   "pygments_lexer": "ipython3",
   "version": "3.10.7"
  }
 },
 "nbformat": 4,
 "nbformat_minor": 2
}
